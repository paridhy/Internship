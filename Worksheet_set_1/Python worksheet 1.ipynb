{
 "cells": [
  {
   "cell_type": "code",
   "execution_count": 1,
   "id": "386749cf",
   "metadata": {},
   "outputs": [
    {
     "name": "stdout",
     "output_type": "stream",
     "text": [
      "Enter a number5\n",
      "120\n"
     ]
    }
   ],
   "source": [
    "#QUESTION 11\n",
    "\n",
    "#taking user input for number\n",
    "number=int(input(\"Enter a number\"))\n",
    "#declaring fact and i\n",
    "fact=1\n",
    "i=1\n",
    "#while loop iterates till i is qual to number\n",
    "while(i<=number):\n",
    "    fact=fact*i\n",
    "    i+=1\n",
    "print(fact)   "
   ]
  },
  {
   "cell_type": "code",
   "execution_count": 3,
   "id": "40b53b59",
   "metadata": {},
   "outputs": [
    {
     "name": "stdout",
     "output_type": "stream",
     "text": [
      "Enter a number7\n",
      "7 is prime\n"
     ]
    }
   ],
   "source": [
    "#QUESTION 12\n",
    "\n",
    "#taking user input for number\n",
    "num=int(input(\"Enter a number\"))\n",
    "\n",
    "#checking if number is 0,1 or any other number\n",
    "if num<=1:\n",
    "    print(num,'is not prime nor composite')\n",
    "    \n",
    "else:    \n",
    "    for i in range(2,int(num**0.5)+1):\n",
    "        \n",
    "        if num%i==0: #checks if number has factors\n",
    "            print(num,\"is composite\")\n",
    "            break\n",
    "    else:\n",
    "        print(num,\"is prime\")\n",
    "        "
   ]
  },
  {
   "cell_type": "code",
   "execution_count": 48,
   "id": "e40322e7",
   "metadata": {},
   "outputs": [
    {
     "name": "stdout",
     "output_type": "stream",
     "text": [
      "Enter stringmalayalam\n",
      "malayalam is a palindrome\n"
     ]
    }
   ],
   "source": [
    "#QUESTION 13\n",
    "\n",
    "#taking user input for string\n",
    "string=input(\"Enter string\")\n",
    "\n",
    "#checking by string slicing for reverse string\n",
    "if string==string[::-1]:\n",
    "    print(string,\"is a palindrome\")\n",
    "else:\n",
    "    print(string,\"is not a palindrome\")"
   ]
  },
  {
   "cell_type": "code",
   "execution_count": 5,
   "id": "e9116ca2",
   "metadata": {},
   "outputs": [
    {
     "name": "stdout",
     "output_type": "stream",
     "text": [
      "Enter first side12\n",
      "Enter second side5\n",
      "13.0\n"
     ]
    }
   ],
   "source": [
    "#QUESTION 14\n",
    "\n",
    "#importing math module\n",
    "import math\n",
    "\n",
    "#taking user input for two sides\n",
    "first_side=int(input(\"Enter first side\"))\n",
    "second_side=int(input(\"Enter second side\"))\n",
    "\n",
    "#creating a function to find third side \n",
    "def third_side(first_side,second_side):\n",
    "    \n",
    "    #using hypotenuse theorem to find the third side\n",
    "    third_side=math.sqrt(((first_side)**2)+((second_side)**2))\n",
    "    return third_side\n",
    "\n",
    "#calling the function\n",
    "side3=third_side(first_side,second_side)\n",
    "print(side3)"
   ]
  },
  {
   "cell_type": "code",
   "execution_count": 10,
   "id": "2bcda14e",
   "metadata": {},
   "outputs": [
    {
     "name": "stdout",
     "output_type": "stream",
     "text": [
      "Enter a stringhello1 world_\n",
      "h has a frequency of 1\n",
      "e has a frequency of 1\n",
      "l has a frequency of 3\n",
      "l has a frequency of 3\n",
      "o has a frequency of 2\n",
      "1 has a frequency of 1\n",
      "  has a frequency of 1\n",
      "w has a frequency of 1\n",
      "o has a frequency of 2\n",
      "r has a frequency of 1\n",
      "l has a frequency of 3\n",
      "d has a frequency of 1\n",
      "_ has a frequency of 1\n"
     ]
    }
   ],
   "source": [
    "#QUESTION 15\n",
    "#taking user input\n",
    "string=input(\"Enter a string\")\n",
    "\n",
    "for i in string:\n",
    "    #using string function count() to count frequency of every character\n",
    "    freq=string.count(i)\n",
    "    #printing i and freq to see the occurences\n",
    "    print(i,\"has a frequency of\",freq) "
   ]
  }
 ],
 "metadata": {
  "kernelspec": {
   "display_name": "Python 3 (ipykernel)",
   "language": "python",
   "name": "python3"
  },
  "language_info": {
   "codemirror_mode": {
    "name": "ipython",
    "version": 3
   },
   "file_extension": ".py",
   "mimetype": "text/x-python",
   "name": "python",
   "nbconvert_exporter": "python",
   "pygments_lexer": "ipython3",
   "version": "3.11.5"
  }
 },
 "nbformat": 4,
 "nbformat_minor": 5
}
