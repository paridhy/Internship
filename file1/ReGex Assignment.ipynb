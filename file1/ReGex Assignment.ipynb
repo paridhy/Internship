{
 "cells": [
  {
   "cell_type": "code",
   "execution_count": 1,
   "id": "b5bfd418",
   "metadata": {},
   "outputs": [
    {
     "name": "stdout",
     "output_type": "stream",
     "text": [
      "Python:Exercises::PHP:exercises:\n"
     ]
    }
   ],
   "source": [
    "#QUESTION 1\n",
    "#importing regex module\n",
    "import regex as re\n",
    "\n",
    "text='Python Exercises, PHP exercises.'\n",
    "#pattern to replace all occrrences of space, comma or dot\n",
    "pattern=r'[\\s+,.]'\n",
    "\n",
    "#substituting the pattern with colon using re.sub()\n",
    "result=re.sub(pattern,':',text)\n",
    "#printing the result\n",
    "print(result)"
   ]
  },
  {
   "cell_type": "code",
   "execution_count": 60,
   "id": "27ed13eb",
   "metadata": {},
   "outputs": [
    {
     "data": {
      "text/plain": [
       "0             hello  world \n",
       "1                      test\n",
       "2       four  five   six   \n",
       "Name: SUMMARY, dtype: object"
      ]
     },
     "execution_count": 60,
     "metadata": {},
     "output_type": "execute_result"
    }
   ],
   "source": [
    "#QUESTION 2\n",
    "#importing pandas library for creating dataframe\n",
    "import pandas as pd\n",
    "\n",
    "#creating a dataframe using dictionary\n",
    "df= pd.DataFrame({'SUMMARY':['hello, world!','XXXXX test','123four, five:; six...']})\n",
    "\n",
    "#pattern to remove everything (commas (,), !, XXXX, ;, etc.) from the columns except words\n",
    "pattern =r'[A-Z0-9\\W]'\n",
    "\n",
    "#using series.str.replace() method to replace the pattern to get expected output\n",
    "df['SUMMARY'].str.replace(pattern,' ',regex=True)"
   ]
  },
  {
   "cell_type": "code",
   "execution_count": 4,
   "id": "5ded9c2a",
   "metadata": {},
   "outputs": [
    {
     "name": "stdout",
     "output_type": "stream",
     "text": [
      "['very', 'ready', 'love', 'watch', 'movies', 'games']\n"
     ]
    }
   ],
   "source": [
    "#QUESTION 3\n",
    "import re\n",
    "\n",
    "#creating a function to find words with atleast four characters\n",
    "def four_char_words(string):\n",
    "    \n",
    "    #\\b indicates start and end,\\w{4,} indicates 4 or more word characters\n",
    "    pattern=re.compile(r'\\b\\w{4,}\\b')\n",
    "    result=pattern.findall(string) #findall() to find all the pattern matches\n",
    "    return(result)\n",
    "\n",
    "#Using a sample input to test the function\n",
    "sample=\"We are very ready and we love to watch movies and games\"\n",
    "\n",
    "#calling the function\n",
    "result=four_char_words(sample)\n",
    "print(result)"
   ]
  },
  {
   "cell_type": "code",
   "execution_count": 69,
   "id": "f8c246ad",
   "metadata": {},
   "outputs": [
    {
     "name": "stdout",
     "output_type": "stream",
     "text": [
      "['are', 'very', 'ready', 'and', 'love', 'watch', 'and', 'games']\n"
     ]
    }
   ],
   "source": [
    "#QUESTION 4\n",
    "import re\n",
    "\n",
    "#creating a function to find all words with three,four, and five characters\n",
    "def multi_char_words(text):\n",
    "    \n",
    "    #\\b indicates start and end,\\w{3,5} indicates range from 3 to 5 word characters\n",
    "    pattern=re.compile(r'\\b\\w{3,5}\\b')\n",
    "    result=pattern.findall(text) #findall() to find all the pattern matches\n",
    "    return(result)\n",
    "\n",
    "#Using a sample input to test the function\n",
    "sample=\"We are very ready and we love to watch movies and games\"\n",
    "\n",
    "#calling the function\n",
    "result=multi_char_words(sample)\n",
    "print(result)"
   ]
  },
  {
   "cell_type": "code",
   "execution_count": 90,
   "id": "9271f1cf",
   "metadata": {},
   "outputs": [
    {
     "name": "stdout",
     "output_type": "stream",
     "text": [
      "example.com\n",
      "hr@fliprobo.com\n",
      "github.com\n",
      "Hello Data Science World\n",
      "Data Scientist\n"
     ]
    }
   ],
   "source": [
    "#QUESTION 5\n",
    "import re\n",
    "\n",
    "#creating a function to remove parenthesis in a list of strings\n",
    "def remove_par(text):\n",
    "    pattern=re.compile(r'\\(|\\)') #pattern to match ( or )\n",
    "    \n",
    "    #for loop is used to iterate every element in the list of strings and substitute the matching pattern\n",
    "    new_output=[pattern.sub('',string)for string in text] \n",
    "    return new_output\n",
    "\n",
    "#list of sample text strings\n",
    "sample_text=[\"example(.com)\", \"hr@fliprobo(.com)\", \"github(.com)\", \"Hello (Data Science World)\", \"Data (Scientist)\"] \n",
    "\n",
    "#calling the function to remove parenthesis\n",
    "new_output=remove_par(sample_text)\n",
    "\n",
    "#for loop executed to iterate through every string in sample text\n",
    "for string in new_output:\n",
    "    print(string)"
   ]
  },
  {
   "cell_type": "code",
   "execution_count": 22,
   "id": "63ab7af0",
   "metadata": {},
   "outputs": [
    {
     "name": "stdout",
     "output_type": "stream",
     "text": [
      "[\"example \", \"hr@fliprobo \", \"github \", \"Hello \", \"Data \"]\n"
     ]
    }
   ],
   "source": [
    "#QUESTION 6\n",
    "import re\n",
    "#read text from file\n",
    "with open(\"sample_text1.txt\")as file:\n",
    "    #pattern to remove parenthesis area\n",
    "    pattern=r'\\([^()]*\\)'\n",
    "    \n",
    "    #Remove parenthesis from each string in the list by re.sub()\n",
    "    for line in file:\n",
    "        new_text= re.sub(pattern,'',line)\n",
    "        print(new_text) #printing the new text\n",
    "\n"
   ]
  },
  {
   "cell_type": "code",
   "execution_count": 24,
   "id": "d6037728",
   "metadata": {},
   "outputs": [
    {
     "name": "stdout",
     "output_type": "stream",
     "text": [
      "['Importance', 'Of', 'Regular', 'Expressions', 'In', 'Python']\n"
     ]
    }
   ],
   "source": [
    "#Question 7\n",
    "import re\n",
    "\n",
    "sample_text='ImportanceOfRegularExpressionsInPython'\n",
    "\n",
    "# pattern finds uppercase letters with either 0 or 1 repeatation of lowercase letters\n",
    "result=re.findall(r'[A-Z][a-z]*',sample_text)\n",
    "print(result)"
   ]
  },
  {
   "cell_type": "code",
   "execution_count": 7,
   "id": "02d4d35f",
   "metadata": {},
   "outputs": [
    {
     "name": "stdout",
     "output_type": "stream",
     "text": [
      "RegularExpression 1IsAn 2ImportantTopic 3InPython\n"
     ]
    }
   ],
   "source": [
    "#QUESTION 8\n",
    "import re\n",
    "\n",
    "#creating a function to insert spaces\n",
    "def insert_spaces(text):\n",
    "    \n",
    "    # ?= Matches a group after the main expression to detect digits but does not include it in result.\n",
    "    pattern= r'(?=\\d+)'\n",
    "    #substituting the pattern with ' ' to create spaces\n",
    "    result=re.sub(pattern,' ',text)\n",
    "    return(result)\n",
    "\n",
    "sample_text=\"RegularExpression1IsAn2ImportantTopic3InPython\"\n",
    "result= insert_spaces(sample_text) #calling the function\n",
    "print(result)\n",
    "\n"
   ]
  },
  {
   "cell_type": "code",
   "execution_count": 8,
   "id": "2ce89dbc",
   "metadata": {},
   "outputs": [
    {
     "name": "stdout",
     "output_type": "stream",
     "text": [
      " Regular Expression 1 Is An 2 Important Topic 3 In Python\n"
     ]
    }
   ],
   "source": [
    "#QUESTION 9\n",
    "import re\n",
    "\n",
    "def insert_spaces(text):\n",
    "    \n",
    "    #?= Matches a group after the main expression to detect digits or capital letter but does not include it in the result.\n",
    "    pattern= r'(?=\\d+|[A-Z])'\n",
    "     #substituting the pattern with ' ' to create spaces\n",
    "    result=re.sub(pattern,' ',text)\n",
    "    return(result)\n",
    "\n",
    "sample_text=\"RegularExpression1IsAn2ImportantTopic3InPython\"\n",
    "result= insert_spaces(sample_text)#calling the function\n",
    "print(result)\n"
   ]
  },
  {
   "cell_type": "code",
   "execution_count": 38,
   "id": "a8b14e91",
   "metadata": {},
   "outputs": [
    {
     "data": {
      "text/html": [
       "<div>\n",
       "<style scoped>\n",
       "    .dataframe tbody tr th:only-of-type {\n",
       "        vertical-align: middle;\n",
       "    }\n",
       "\n",
       "    .dataframe tbody tr th {\n",
       "        vertical-align: top;\n",
       "    }\n",
       "\n",
       "    .dataframe thead th {\n",
       "        text-align: right;\n",
       "    }\n",
       "</style>\n",
       "<table border=\"1\" class=\"dataframe\">\n",
       "  <thead>\n",
       "    <tr style=\"text-align: right;\">\n",
       "      <th></th>\n",
       "      <th>first_five_letters</th>\n",
       "    </tr>\n",
       "  </thead>\n",
       "  <tbody>\n",
       "    <tr>\n",
       "      <th>0</th>\n",
       "      <td>Switze</td>\n",
       "    </tr>\n",
       "    <tr>\n",
       "      <th>1</th>\n",
       "      <td>Icelan</td>\n",
       "    </tr>\n",
       "    <tr>\n",
       "      <th>2</th>\n",
       "      <td>Denmar</td>\n",
       "    </tr>\n",
       "    <tr>\n",
       "      <th>3</th>\n",
       "      <td>Norway</td>\n",
       "    </tr>\n",
       "    <tr>\n",
       "      <th>4</th>\n",
       "      <td>Canada</td>\n",
       "    </tr>\n",
       "    <tr>\n",
       "      <th>...</th>\n",
       "      <td>...</td>\n",
       "    </tr>\n",
       "    <tr>\n",
       "      <th>153</th>\n",
       "      <td>Rwanda</td>\n",
       "    </tr>\n",
       "    <tr>\n",
       "      <th>154</th>\n",
       "      <td>NaN</td>\n",
       "    </tr>\n",
       "    <tr>\n",
       "      <th>155</th>\n",
       "      <td>NaN</td>\n",
       "    </tr>\n",
       "    <tr>\n",
       "      <th>156</th>\n",
       "      <td>Burund</td>\n",
       "    </tr>\n",
       "    <tr>\n",
       "      <th>157</th>\n",
       "      <td>NaN</td>\n",
       "    </tr>\n",
       "  </tbody>\n",
       "</table>\n",
       "<p>158 rows × 1 columns</p>\n",
       "</div>"
      ],
      "text/plain": [
       "    first_five_letters\n",
       "0               Switze\n",
       "1               Icelan\n",
       "2               Denmar\n",
       "3               Norway\n",
       "4               Canada\n",
       "..                 ...\n",
       "153             Rwanda\n",
       "154                NaN\n",
       "155                NaN\n",
       "156             Burund\n",
       "157                NaN\n",
       "\n",
       "[158 rows x 1 columns]"
      ]
     },
     "execution_count": 38,
     "metadata": {},
     "output_type": "execute_result"
    }
   ],
   "source": [
    "#QUESTION 10\n",
    "import pandas as pd\n",
    "\n",
    "#Reading the data from csv file\n",
    "df=pd.read_csv(\"https://raw.githubusercontent.com/dsrscientist/DSData/master/happiness_score_dataset.csv\")\n",
    "\n",
    "# pattern to extract the first 6 letters \n",
    "pattern=r'(\\w{6})'\n",
    "\n",
    "#Creating a dataframe to extract Country column and renaming it as first_five_letters\n",
    "mask=df[\"Country\"].str.extract(pattern).rename(columns={0: 'first_five_letters'}) \n",
    "mask"
   ]
  },
  {
   "cell_type": "code",
   "execution_count": 52,
   "id": "857caea0",
   "metadata": {},
   "outputs": [
    {
     "name": "stdout",
     "output_type": "stream",
     "text": [
      "<re.Match object; span=(0, 13), match='Ask_String000'>\n",
      "<re.Match object; span=(0, 9), match='Tw_not_45'>\n",
      "None\n"
     ]
    }
   ],
   "source": [
    "#QUESTION 11\n",
    "import re\n",
    "def only_w(string):\n",
    "    #string that contains only upper and lowercase letters, numbers, and underscores.\n",
    "    pattern=r'^\\w+$'\n",
    "    \n",
    "    #for loop is used to iterate every element in the list of strings and check the matching pattern\n",
    "    result=[re.match(pattern,s)for s in string]\n",
    "    return(result)\n",
    "\n",
    "#sample string\n",
    "string1 = [\"Ask_String000\",\"Tw_not_45\", \"1Q@String\"]\n",
    "result=only_w(string1) #calling the function\n",
    "\n",
    "#iterating over the list in string1\n",
    "for x in result:\n",
    "    print(x)"
   ]
  },
  {
   "cell_type": "code",
   "execution_count": 29,
   "id": "acb0051b",
   "metadata": {},
   "outputs": [
    {
     "name": "stdout",
     "output_type": "stream",
     "text": [
      "<re.Match object; span=(0, 6), match='11AAAA'>\n"
     ]
    }
   ],
   "source": [
    "#QUESTION 12\n",
    "import re\n",
    "\n",
    "#creating a function with two arguments: string and specific number\n",
    "def start_with_no(string,specific_no):\n",
    "    \n",
    "    #pattern to match string that starts with 11 and followed by any non digit with 0 or more occurence\n",
    "    pattern=r'^(11)\\D*'\n",
    "    result=re.match(pattern,string)\n",
    "    return result\n",
    "\n",
    "#sample string to check \n",
    "string2=\"11AAAA\"\n",
    "\n",
    "#specific number is 11\n",
    "result=start_with_no(string2,11)\n",
    "print(result)\n"
   ]
  },
  {
   "cell_type": "code",
   "execution_count": 91,
   "id": "a7c68a41",
   "metadata": {},
   "outputs": [
    {
     "name": "stdout",
     "output_type": "stream",
     "text": [
      "112.123.33\n"
     ]
    }
   ],
   "source": [
    "#QUESTION 13\n",
    "import re\n",
    "#creating a function to remove leading zeroes from IP address\n",
    "def remove_zeroes(address):\n",
    "    \n",
    "    #pattern starting with 0(one or more occurence),followed by digit after leading zero and captures it\n",
    "    pattern=r'\\b0+(\\d)'\n",
    "    #substituted by r'\\1' refers to captured digit and replaces the leading zero\n",
    "    result=re.sub(pattern,r'\\1',address)\n",
    "    return result\n",
    "\n",
    "#sample string\n",
    "string3= \"112.0123.033\"\n",
    "result=remove_zeroes(string3)#calling the function\n",
    "print(result)"
   ]
  },
  {
   "cell_type": "code",
   "execution_count": 34,
   "id": "6e4f0803",
   "metadata": {},
   "outputs": [
    {
     "name": "stdout",
     "output_type": "stream",
     "text": [
      "['August 15th 1947']\n"
     ]
    }
   ],
   "source": [
    "#QUESTION 14\n",
    "import re\n",
    "#read text from txt file\n",
    "with open(\"sample_text.txt\")as file:\n",
    "    #pattern to match a date string in the form of Month name followed by day number and year \n",
    "    #?: indicates non capturing groups\n",
    "    pattern=r'\\b(?:January|February|March|April|May|June|July|August|September|October|November|December)\\s+\\d{1,2}(?:st|nd|rd|th)\\s+\\d{4}\\b'\n",
    "    \n",
    "    #find pattern using findall() \n",
    "    for line in file:\n",
    "        date=re.findall(pattern,line)\n",
    "        print(date) #printing date\n",
    "\n"
   ]
  },
  {
   "cell_type": "code",
   "execution_count": 37,
   "id": "47cd5dba",
   "metadata": {},
   "outputs": [
    {
     "name": "stdout",
     "output_type": "stream",
     "text": [
      "['fox', 'dog']\n"
     ]
    }
   ],
   "source": [
    "#QUESTION 15\n",
    "sample_text='The quick brown fox jumps over the lazy dog.'\n",
    "\n",
    "#to match any searched literal by using |\n",
    "#findall() gives the matched words\n",
    "x=re.findall(\"(fox|dog|horse)\",sample_text)\n",
    "print(x)"
   ]
  },
  {
   "cell_type": "code",
   "execution_count": 8,
   "id": "b29917bf",
   "metadata": {},
   "outputs": [
    {
     "name": "stdout",
     "output_type": "stream",
     "text": [
      "<re.Match object; span=(16, 19), match='fox'>\n"
     ]
    }
   ],
   "source": [
    "#QUESTION 16\n",
    "sample_text='The quick brown fox jumps over the lazy dog.'\n",
    "\n",
    "#search() gives the match and also the location of the matched word\n",
    "x=re.search(\"fox\",sample_text)\n",
    "print(x)"
   ]
  },
  {
   "cell_type": "code",
   "execution_count": 10,
   "id": "169755ba",
   "metadata": {},
   "outputs": [
    {
     "name": "stdout",
     "output_type": "stream",
     "text": [
      "['exercises', 'exercises', 'exercises']\n"
     ]
    }
   ],
   "source": [
    "#QUESTION 17\n",
    "sample_text='Python exercises, PHP exercises, C# exercises'\n",
    "\n",
    "#pattern to find substring within a string\n",
    "pattern=r'(exercises)'\n",
    "\n",
    "#findall() showes all the occurences of the substring\n",
    "x=re.findall(pattern,sample_text)\n",
    "print(x)"
   ]
  },
  {
   "cell_type": "code",
   "execution_count": 51,
   "id": "d4be7fcc",
   "metadata": {},
   "outputs": [
    {
     "name": "stdout",
     "output_type": "stream",
     "text": [
      "<re.Match object; span=(7, 16), match='exercises'>\n"
     ]
    }
   ],
   "source": [
    "#QUESTION 18\n",
    "sample_text='Python exercises, PHP exercises, C# exercises'\n",
    "\n",
    "#pattern to find substring within a string\n",
    "pattern=r'exercises'\n",
    "\n",
    "#search() gives the match and also the position of the matched word\n",
    "match=re.search(pattern,sample_text)\n",
    "print(match)\n"
   ]
  },
  {
   "cell_type": "code",
   "execution_count": 31,
   "id": "42eee2bb",
   "metadata": {
    "scrolled": false
   },
   "outputs": [
    {
     "name": "stdout",
     "output_type": "stream",
     "text": [
      "1999-22-13\n",
      "13-22-1999\n"
     ]
    }
   ],
   "source": [
    "#QUESTION 19\n",
    "import re\n",
    "\n",
    "#to match yyyy-mm-dd format\n",
    "pattern=r'(\\b\\d{4})-(\\d{2})-(\\d{2}\\b)'\n",
    "input_date=\"1999-22-13\"\n",
    "\n",
    "#substituting the groups with the pattern\n",
    "output_date=re.sub(pattern,r'\\3-\\2-\\1',input_date)\n",
    "\n",
    "print(input_date) #yyyy-mm-dd date format\n",
    "print(output_date) #dd-mm-yyyy date format"
   ]
  },
  {
   "cell_type": "code",
   "execution_count": 40,
   "id": "676454fc",
   "metadata": {},
   "outputs": [
    {
     "name": "stdout",
     "output_type": "stream",
     "text": [
      "['01.12', '145.8', '3.01', '27.25', '0.25']\n"
     ]
    }
   ],
   "source": [
    "#QUESTION 20\n",
    "import re\n",
    "\n",
    "def find_dec_num(string):\n",
    "    \n",
    "    #starts from digit followed by a decimal point(.) followed by digits for range 1 to 2\n",
    "    pattern = re.compile(r'\\b\\d+\\.\\d{1,2}\\b')\n",
    "    dec_num = pattern.findall(string) #finding all the matched occurences\n",
    "    return dec_num\n",
    "\n",
    "sample_text = \"01.12 0132.123 2.31875 145.8 3.01 27.25 0.25\"\n",
    "dec_num = find_dec_num(sample_text) #calling the function\n",
    "print(dec_num)"
   ]
  },
  {
   "cell_type": "code",
   "execution_count": 5,
   "id": "f847a4aa",
   "metadata": {},
   "outputs": [
    {
     "name": "stdout",
     "output_type": "stream",
     "text": [
      "<re.Match object; span=(10, 11), match='3'>\n",
      "<re.Match object; span=(24, 25), match='1'>\n",
      "<re.Match object; span=(36, 37), match='2'>\n"
     ]
    }
   ],
   "source": [
    "#QUESTION 21\n",
    "msg=\"if Eating 3 bananas and 1 apple for 2 days\"\n",
    "\n",
    "#finditer() matches objects based on pattern along with their start and end positions.\n",
    "x=re.finditer(r\"\\d+\",msg)\n",
    "\n",
    "#for loop to seperate the output numbers\n",
    "for match in x:\n",
    "    print(match)"
   ]
  },
  {
   "cell_type": "code",
   "execution_count": 32,
   "id": "11e15808",
   "metadata": {},
   "outputs": [
    {
     "name": "stdout",
     "output_type": "stream",
     "text": [
      "950\n"
     ]
    }
   ],
   "source": [
    "#QUESTION 22\n",
    "def max_value(string):\n",
    "    \n",
    "    #matches digits\n",
    "    value=re.findall(r'\\b\\d+\\b',string)\n",
    "    \n",
    "    # map() to convert each string element to an integer\n",
    "    # then used max() to find the maximum value among those integers \n",
    "   \n",
    "    maximum_value=max(map(int,value))\n",
    "    \n",
    "    # maximum_value = max(value) \"\"\"Another method\"\"\"\n",
    "    return maximum_value\n",
    "\n",
    "sample_text='My marks in each semester are: 947, 896, 926, 524, 734, 950, 642'\n",
    "result=max_value(sample_text)                   \n",
    "print(result)\n"
   ]
  },
  {
   "cell_type": "code",
   "execution_count": 35,
   "id": "54d9e135",
   "metadata": {},
   "outputs": [
    {
     "name": "stdout",
     "output_type": "stream",
     "text": [
      "Regular Expression Is An Important Topic In Python\n"
     ]
    }
   ],
   "source": [
    "#QUESTION 23\n",
    "import re\n",
    "def insert_spc(msg):\n",
    "    \n",
    "    #?= Matches a group after the main expression to detect capital letter but doesnt include it in result.\n",
    "    pattern= r'(?=[A-Z])'\n",
    "    \n",
    "    #substituting pattern with \" \" to create space\n",
    "    result=re.sub(pattern,' ',msg)\n",
    "    \n",
    "    #result=re.sub(r'([a-z])([A-Z])',r'\\1 \\2',msg) \"\"\"ANOTHER METHOD\"\"\"\n",
    "    return(result)\n",
    "\n",
    "sample_text=\"RegularExpressionIsAnImportantTopicInPython\"\n",
    "result= insert_spc(sample_text) #calling the function\n",
    "print(result)\n"
   ]
  },
  {
   "cell_type": "code",
   "execution_count": 24,
   "id": "50be8416",
   "metadata": {},
   "outputs": [
    {
     "name": "stdout",
     "output_type": "stream",
     "text": [
      "['Regular', 'Expression', 'Is', 'An', 'Important', 'Topic', 'In', 'Python']\n"
     ]
    }
   ],
   "source": [
    "#QUESTION 24\n",
    "import re\n",
    "def find_seq(text):\n",
    "    \n",
    "    #starts with uppercase letters followed by 1 or more occurence of lowercase letters\n",
    "    pattern= r'(\\b[A-Z][a-z]+)'\n",
    "    \n",
    "    #findall() matches all the occurences of match\n",
    "    result=re.findall(pattern,text)\n",
    "    return(result)\n",
    "\n",
    "sample_text=\"Regular Expression Is An Important Topic In Python\"\n",
    "result= find_seq(sample_text)\n",
    "print(result)\n"
   ]
  },
  {
   "cell_type": "code",
   "execution_count": 48,
   "id": "b7ea6fe6",
   "metadata": {},
   "outputs": [
    {
     "name": "stdout",
     "output_type": "stream",
     "text": [
      "Hello hello world\n"
     ]
    }
   ],
   "source": [
    "#QUESTION 25\n",
    "def remove_dup(text):\n",
    "   \n",
    "   \n",
    "   #to remove continuous duplicate words \n",
    "    result=re.sub(r'\\b(\\w+)(?:\\W+\\1\\b)+',r'\\1',text)\n",
    "    #result=re.sub(r'\\b(\\w+)( \\1)+\\b',r'\\1',text) \"\"\"Another method\"\"\"\n",
    "    return result\n",
    "\n",
    "sample_text=\"Hello hello world world\"\n",
    "new_output=remove_dup(sample_text) \n",
    "\n",
    "print(new_output)\n",
    "#removes world as its duplicated\n",
    "#skips Hello hello as they have different cases"
   ]
  },
  {
   "cell_type": "code",
   "execution_count": 29,
   "id": "babbf246",
   "metadata": {},
   "outputs": [
    {
     "name": "stdout",
     "output_type": "stream",
     "text": [
      "['Ab123']\n",
      "[]\n"
     ]
    }
   ],
   "source": [
    "#QUESTION 26\n",
    "def end_with_isalnum(string):\n",
    "    \n",
    "    #ending with alphanumeric character\n",
    "    pattern=r'\\w+$'\n",
    "    result=re.findall(pattern,string)\n",
    "    return result\n",
    "#string ending with alphanumeric character\n",
    "sample_text= \"We are in Ab123\"\n",
    "\n",
    "#string ending with non alphanumeric character\n",
    "sample_text2=\"we are in ab!\"\n",
    "\n",
    "output1=end_with_isalnum(sample_text)\n",
    "output2=end_with_isalnum(sample_text2)\n",
    "\n",
    "#checking the output of both cases\n",
    "print(output1) #only string ending with alphanumeric character gives output\n",
    "print(output2)"
   ]
  },
  {
   "cell_type": "code",
   "execution_count": 41,
   "id": "54ac7a22",
   "metadata": {},
   "outputs": [
    {
     "name": "stdout",
     "output_type": "stream",
     "text": [
      "['#Doltiwal', '#xyzabc', '#Demonetization']\n"
     ]
    }
   ],
   "source": [
    "#QUESTION 27\n",
    "def find_hash(text):\n",
    "    \n",
    "    #starts with #, followed by word characters\n",
    "    pattern= r'\\#\\w*'\n",
    "    result=re.findall(pattern,text)\n",
    "    return(result)\n",
    "\n",
    "sample_text=\"\"\"RT @kapil_kausik: #Doltiwal I mean #xyzabc is \"hurt\" by #Demonetization as the same has rendered USELESS <ed><U+00A0><U+00BD><ed><U+00B1><U+0089> \"acquired funds\" No wo\"\"\"\n",
    "result= find_hash(sample_text)\n",
    "print(result)"
   ]
  },
  {
   "cell_type": "code",
   "execution_count": 58,
   "id": "f9ccdb73",
   "metadata": {},
   "outputs": [
    {
     "name": "stdout",
     "output_type": "stream",
     "text": [
      "@Jags123456 Bharat band on 28??<ed><ed>Those who are protesting #demonetization  are all different party leaders\n"
     ]
    }
   ],
   "source": [
    "#QUESTION 28\n",
    "def remove_symbols(text):\n",
    "    \n",
    "    #match starting from <U,followed by+,and word characters of 4 word limit and end with >\n",
    "    pattern= r'\\<U\\+\\w{4}\\>'\n",
    "    result=re.sub(pattern,'',text)\n",
    "    return(result)\n",
    "\n",
    "sample_text=\"@Jags123456 Bharat band on 28??<ed><U+00A0><U+00BD><ed><U+00B8><U+0082>Those who are protesting #demonetization  are all different party leaders\"\n",
    "result= remove_symbols(sample_text)#calling the function\n",
    "print(result)\n"
   ]
  },
  {
   "cell_type": "code",
   "execution_count": 44,
   "id": "f469a6a8",
   "metadata": {},
   "outputs": [
    {
     "name": "stdout",
     "output_type": "stream",
     "text": [
      "['12-09-1992', '15-12-1999']\n"
     ]
    }
   ],
   "source": [
    "#QUESTION 29\n",
    "\n",
    "#open() method to use txt file\n",
    "with open(\"sample_text2.txt\")as file:\n",
    "    \n",
    "    #matches starting word char limit 2,-,word char limit 2,-,word char limit 4\n",
    "    pattern=r'\\b\\w{2}-\\w{2}-\\w{4}\\b'\n",
    "    \n",
    "    #iterating file to find all matches\n",
    "    for text in file:\n",
    "        date=re.findall(pattern,text)\n",
    "        print(date)"
   ]
  },
  {
   "cell_type": "code",
   "execution_count": 52,
   "id": "9f33faf6",
   "metadata": {},
   "outputs": [
    {
     "name": "stdout",
     "output_type": "stream",
     "text": [
      " following example creates  ArrayList  a capacity   elements. 4 elements   added   ArrayList   ArrayList  trimmed accordingly.\n"
     ]
    }
   ],
   "source": [
    "#QUESTION 30\n",
    "def remove_words(text):\n",
    "    \n",
    "    #matches starting with word char ranging 2-4 or digits ranging 2-4\n",
    "    pattern=re.compile(r'\\b\\w{2,4}\\b')\n",
    "\n",
    "    #pattern=re.compile(r'^\\w{2,4}$|\\d{2,4}$') \"\"\"Another method\"\"\"\n",
    "    \n",
    "    #sub() pattern with ''\n",
    "    result=pattern.sub('',text)\n",
    "    return result\n",
    "\n",
    "sample_text=\"The following example creates an ArrayList with a capacity of 50 elements. 4 elements are then added to the ArrayList and the ArrayList is trimmed accordingly.\"\n",
    "new_output=remove_words(sample_text) #calling the function\n",
    "print(new_output)"
   ]
  },
  {
   "cell_type": "code",
   "execution_count": null,
   "id": "d266860a",
   "metadata": {},
   "outputs": [],
   "source": []
  },
  {
   "cell_type": "code",
   "execution_count": null,
   "id": "187a47e8",
   "metadata": {},
   "outputs": [],
   "source": []
  }
 ],
 "metadata": {
  "kernelspec": {
   "display_name": "Python 3 (ipykernel)",
   "language": "python",
   "name": "python3"
  },
  "language_info": {
   "codemirror_mode": {
    "name": "ipython",
    "version": 3
   },
   "file_extension": ".py",
   "mimetype": "text/x-python",
   "name": "python",
   "nbconvert_exporter": "python",
   "pygments_lexer": "ipython3",
   "version": "3.11.5"
  }
 },
 "nbformat": 4,
 "nbformat_minor": 5
}
